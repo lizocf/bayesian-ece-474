{
 "cells": [
  {
   "cell_type": "code",
   "execution_count": 1,
   "metadata": {},
   "outputs": [],
   "source": [
    "import numpy as np\n",
    "import matplotlib.pyplot as plt\n",
    "from scipy.stats import beta, norm, invgamma\n",
    "\n",
    "np.random.seed(111)\n",
    "\n",
    "# Binomial \n",
    "n = 10\n",
    "p = 0.5\n",
    "bin_alphas = [1, 2, 10]\n",
    "bin_betas = [1, 4, 20]\n",
    "\n",
    "# Gaussian\n",
    "mu_true = 2.0\n",
    "sigma_true = 1.0\n",
    "\n",
    "mu_0s = [1.5, 2.0, 2.5]\n",
    "tau_0s = [1.0, 1.01, 0.99]\n",
    "\n",
    "gauss_alphas = [1, 4, 20]\n",
    "gauss_betas = [1, 4, 20]\n",
    "\n",
    "\n",
    "n_samples = 100\n",
    "\n",
    "binomial_data = np.random.binomial(n, p, n_samples)\n",
    "gaussian_data = np.random.normal(mu_true, sigma_true, n_samples)\n"
   ]
  },
  {
   "cell_type": "code",
   "execution_count": 3,
   "metadata": {},
   "outputs": [],
   "source": [
    "def get_mse(estimates, true_value):\n",
    "    mse = [(est - true_value)**2 for est in estimates]\n",
    "    return mse\n",
    "\n",
    "# Plot Posterior Density\n",
    "def plot_posterior_density(prior, posterior, label, x_range, n_points=100):\n",
    "    x = np.linspace(x_range[0], x_range[1], n_points)\n",
    "    plt.plot(x, prior.pdf(x), label=f'Prior {label}')\n",
    "    plt.plot(x, posterior.pdf(x), label=f'Posterior {label}')\n"
   ]
  },
  {
   "cell_type": "code",
   "execution_count": 2,
   "metadata": {},
   "outputs": [],
   "source": [
    "def generate_binomial_data(n, p, size):\n",
    "    return np.random.binomial(n, p, size)\n",
    "\n",
    "def binomial_mle(data, n):\n",
    "    return np.mean(data) / n\n",
    "\n",
    "# Beta Mean: alpha + num_successes / alpha + beta + total_trials\n",
    "\n",
    "def binomial_conjugate(data, n, alpha, beta):\n",
    "    num_successes = np.sum(data) \n",
    "    num_trials = n * len(data)\n",
    "    return (alpha + num_successes) / (alpha + beta + num_trials)"
   ]
  },
  {
   "cell_type": "code",
   "execution_count": null,
   "metadata": {},
   "outputs": [],
   "source": []
  }
 ],
 "metadata": {
  "kernelspec": {
   "display_name": "venv",
   "language": "python",
   "name": "python3"
  },
  "language_info": {
   "codemirror_mode": {
    "name": "ipython",
    "version": 3
   },
   "file_extension": ".py",
   "mimetype": "text/x-python",
   "name": "python",
   "nbconvert_exporter": "python",
   "pygments_lexer": "ipython3",
   "version": "3.12.3"
  }
 },
 "nbformat": 4,
 "nbformat_minor": 2
}

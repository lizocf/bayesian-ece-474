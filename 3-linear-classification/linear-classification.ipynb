{
 "cells": [
  {
   "cell_type": "code",
   "execution_count": 4,
   "metadata": {},
   "outputs": [],
   "source": [
    "import numpy as np\n",
    "import matplotlib.pyplot as plt\n",
    "from scipy.stats import multivariate_normal\n",
    "import pandas as pd"
   ]
  },
  {
   "cell_type": "markdown",
   "metadata": {},
   "source": [
    "# Equations from Bishop:\n",
    "\n",
    "## Goal:\n",
    "\n",
    "We are working with a dataset ${\\bold{x_n}, t_n}$, where n=1,...,N. Here $t_n=1$ for $C_1$ and $t_n=0$ for $C_2$. \n",
    "The posterior probability for the class $C_1$ given observations $\\bold{x}$ can be written as:\n",
    "\n",
    "$$ p(C_1 | x) = \\sigma (\\bold{w}^T\\bold{x} + w_0) \\tag{4.65}$$\n",
    "\n",
    "where\n",
    "\n",
    "$$ \\sigma (a) = \\frac{1}{1 + \\text{exp}(-a) \\tag{4.59}}$$\n",
    "$$ \\bold{w} = \\Sigma^{-1} (\\mu_1 - \\mu_2)  \\tag{4.66}$$\n",
    "$$ w_0 = - \\frac{1}{2} \\mu_1^T \\Sigma^{-1} \\mu_1 + \\frac{1}{2} \\mu_2^T \\Sigma^{-1} \\mu_2 + \\text{ln}\\frac{p(C_1)}{p(C_2)} \\tag{4.67} $$\n",
    "\n",
    "Let $\\theta$ be some threshold value. If $ p(C_1 | x) \\ge \\theta$, we will choose $t_n = 1$. Else, $t_n = 0$. \n",
    "\n",
    "\n",
    "### Getting parameters for $w_0$ and $\\bold{w}$:\n",
    "\n",
    "We denote the prior class probability $p(C_1)=\\pi$, so that $p(C_2)=1−\\pi$. By logging the likelihood function of equation 4.71, we get the log likelihood function:\n",
    "\n",
    "$$ \\sum_{n=1}^{N} \\{ t_{n} \\text{ln}(\\pi) + (1 - t_{n})\\text{ln}(1 - \\pi) \\}  \\tag{4.72}$$\n",
    "\n",
    "Setting the derivative wrt $\\pi$ equal to zero, we get\n",
    "\n",
    "$$ \\pi = \\frac{1}{N} \\sum_{n=1}^{N} t_{n} = \\frac{N_{1}}{N} = \\frac{N_{1}}{N_{1} + N_{2}}. \\tag{4.73}$$\n",
    "\n",
    "Other MLEs:\n",
    "\n",
    "$$ \\mu_1 = \\frac{1}{N_1} \\sum_{n=1}^{N} t_n x_n \\tag{4.75}$$\n",
    "$$ \\mu_1 = \\frac{1}{N_2} \\sum_{n=1}^{N} (1 - t_n) x_n \\tag{4.76}$$\n",
    "$$ S_1 = \\frac{1}{N_1} \\sum_{n\\in C_1} (x_n - \\mu_1)(x_n - \\mu_1)^T\\tag{4.79}$$\n",
    "$$ S_2 = \\frac{1}{N_2} \\sum_{n\\in C_2} (x_n - \\mu_2)(x_n - \\mu_2)^T\\tag{4.80}$$\n",
    "\n",
    "We also know that $\\bold{\\Sigma} = \\bold{S} = \\frac{N_1}{N}S_1 + \\frac{N_2}{N}S_2 $.  "
   ]
  },
  {
   "cell_type": "code",
   "execution_count": 8,
   "metadata": {},
   "outputs": [
    {
     "data": {
      "text/html": [
       "<div>\n",
       "<style scoped>\n",
       "    .dataframe tbody tr th:only-of-type {\n",
       "        vertical-align: middle;\n",
       "    }\n",
       "\n",
       "    .dataframe tbody tr th {\n",
       "        vertical-align: top;\n",
       "    }\n",
       "\n",
       "    .dataframe thead th {\n",
       "        text-align: right;\n",
       "    }\n",
       "</style>\n",
       "<table border=\"1\" class=\"dataframe\">\n",
       "  <thead>\n",
       "    <tr style=\"text-align: right;\">\n",
       "      <th></th>\n",
       "      <th>Size</th>\n",
       "      <th>Weight</th>\n",
       "      <th>Sweetness</th>\n",
       "      <th>Softness</th>\n",
       "      <th>HarvestTime</th>\n",
       "      <th>Ripeness</th>\n",
       "      <th>Acidity</th>\n",
       "      <th>Quality</th>\n",
       "    </tr>\n",
       "  </thead>\n",
       "  <tbody>\n",
       "    <tr>\n",
       "      <th>0</th>\n",
       "      <td>-1.924968</td>\n",
       "      <td>0.468078</td>\n",
       "      <td>3.077832</td>\n",
       "      <td>-1.472177</td>\n",
       "      <td>0.294799</td>\n",
       "      <td>2.435570</td>\n",
       "      <td>0.271290</td>\n",
       "      <td>Good</td>\n",
       "    </tr>\n",
       "    <tr>\n",
       "      <th>1</th>\n",
       "      <td>-2.409751</td>\n",
       "      <td>0.486870</td>\n",
       "      <td>0.346921</td>\n",
       "      <td>-2.495099</td>\n",
       "      <td>-0.892213</td>\n",
       "      <td>2.067549</td>\n",
       "      <td>0.307325</td>\n",
       "      <td>Good</td>\n",
       "    </tr>\n",
       "    <tr>\n",
       "      <th>2</th>\n",
       "      <td>-0.357607</td>\n",
       "      <td>1.483176</td>\n",
       "      <td>1.568452</td>\n",
       "      <td>-2.645145</td>\n",
       "      <td>-0.647267</td>\n",
       "      <td>3.090643</td>\n",
       "      <td>1.427322</td>\n",
       "      <td>Good</td>\n",
       "    </tr>\n",
       "    <tr>\n",
       "      <th>3</th>\n",
       "      <td>-0.868524</td>\n",
       "      <td>1.566201</td>\n",
       "      <td>1.889605</td>\n",
       "      <td>-1.273761</td>\n",
       "      <td>-1.006278</td>\n",
       "      <td>1.873001</td>\n",
       "      <td>0.477862</td>\n",
       "      <td>Good</td>\n",
       "    </tr>\n",
       "    <tr>\n",
       "      <th>4</th>\n",
       "      <td>0.651825</td>\n",
       "      <td>1.319199</td>\n",
       "      <td>-0.022459</td>\n",
       "      <td>-1.209709</td>\n",
       "      <td>-1.430692</td>\n",
       "      <td>1.078345</td>\n",
       "      <td>2.812442</td>\n",
       "      <td>Good</td>\n",
       "    </tr>\n",
       "  </tbody>\n",
       "</table>\n",
       "</div>"
      ],
      "text/plain": [
       "       Size    Weight  Sweetness  Softness  HarvestTime  Ripeness   Acidity  \\\n",
       "0 -1.924968  0.468078   3.077832 -1.472177     0.294799  2.435570  0.271290   \n",
       "1 -2.409751  0.486870   0.346921 -2.495099    -0.892213  2.067549  0.307325   \n",
       "2 -0.357607  1.483176   1.568452 -2.645145    -0.647267  3.090643  1.427322   \n",
       "3 -0.868524  1.566201   1.889605 -1.273761    -1.006278  1.873001  0.477862   \n",
       "4  0.651825  1.319199  -0.022459 -1.209709    -1.430692  1.078345  2.812442   \n",
       "\n",
       "  Quality  \n",
       "0    Good  \n",
       "1    Good  \n",
       "2    Good  \n",
       "3    Good  \n",
       "4    Good  "
      ]
     },
     "execution_count": 8,
     "metadata": {},
     "output_type": "execute_result"
    }
   ],
   "source": [
    "# https://www.kaggle.com/datasets/l3llff/banana\n",
    "bananas_df = pd.read_csv('/home/lizocf/bayesian-ece-474/3-linear-classification/banana_quality.csv')\n",
    "bananas_df.head()"
   ]
  },
  {
   "cell_type": "markdown",
   "metadata": {},
   "source": [
    "# Create Sample Observations"
   ]
  },
  {
   "cell_type": "code",
   "execution_count": 5,
   "metadata": {},
   "outputs": [],
   "source": [
    "mu1 = np.array([1, 1])\n",
    "mu2 = np.array([-1, -1])\n",
    "sigma = np.eye(2)\n",
    "\n",
    "size = 1000\n",
    "split = 0.5\n",
    "\n",
    "C1 = np.random.multivariate_normal(mu1, sigma, int(size*split))\n",
    "C2 = np.random.multivariate_normal(mu2, sigma, int(size*(1-split)))  \n",
    "\n",
    "X = np.concatenate((C1, C2))                                    # features\n",
    "t = np.concatenate((np.ones(len(C1)), np.zeros(len(C2))))       # \"labels\""
   ]
  },
  {
   "cell_type": "markdown",
   "metadata": {},
   "source": [
    "# Gaussian Generative Model"
   ]
  },
  {
   "cell_type": "code",
   "execution_count": 6,
   "metadata": {},
   "outputs": [],
   "source": [
    "def getAccuracy(preds, labels, threshold):\n",
    "    pred = preds > threshold\n",
    "    return np.sum(pred == labels) / len(labels)"
   ]
  },
  {
   "cell_type": "code",
   "execution_count": 7,
   "metadata": {},
   "outputs": [],
   "source": [
    "def GenerativeModel(X, t, C1, C2, ax=None, sample=True):\n",
    "    if ax is None:\n",
    "        ax = plt.gca()\n",
    "\n",
    "    if sample:\n",
    "        labels = ['Class 1', 'Class 2']\n",
    "    else:\n",
    "        labels = ['Good Banana', 'Bad Banana']\n",
    "\n",
    "    N1 = len(C1)\n",
    "    N2 = len(C2)\n",
    "    N = N1 + N2\n",
    "\n",
    "    for c1 in C1:\n",
    "        ax.plot(c1[0], c1[1], 'ro', alpha=0.5, label=labels[0])\n",
    "\n",
    "    for c2 in C2:\n",
    "        ax.plot(c2[0], c2[1], 'bo', alpha=0.5, labels=labels[1])\n",
    "        \n",
    "    # Equation 4.73 - get priors\n",
    "    pi = N1 / (N1 + N2)\n",
    "\n",
    "    # Equation 4.75 + 4.76 - get means\n",
    "    mu_sums = [0, 0]\n",
    "    for i in range(N):\n",
    "        mu_sums[0] += t[i] * X[i]\n",
    "        mu_sums[1] += (1 - t[i]) * X[i]\n",
    "\n",
    "    mN =  [1 / N1 * mu_sums[0], 1 / N2 * mu_sums[1]]\n",
    "\n",
    "    # Equation 4.78 - 4.80 - get covariance Σ = S\n",
    "    SN_sums = [0, 0]\n",
    "    for i in range(N):\n",
    "        SN_sums[0] += (C1[i] - mN[0]).dot((C1[i] - mN[0]).T)\n",
    "        SN_sums[1] += (C2[i] - mN[1]).dot((C2[i] - mN[1]).T)\n",
    "\n",
    "    SN = [1/N1 * SN_sums[0], 1/N2 * SN_sums[1]]\n",
    "    S = [N1/N * SN[0] , N2/N * SN[1]]\n",
    "    S = np.diag(S)\n",
    "\n",
    "    #Equation 4.66, 4.67 - get w and w0\n",
    "    w = np.linalg.inv(S).dot(mN[0] - mN[1])\n",
    "    w0 = (-1/2)*mN[0]@np.linalg.inv(S).dot(mN[0].T) + 1/2*mN[1] @ np.linalg.inv(S) @ mN[1].T + np.log(pi/(1 - pi))\n",
    "\n",
    "    #Equation 4.65 - use w and w0 to find posterior densities \n",
    "    a = w@X.T + w0\n",
    "    output = 1/(1+np.exp(-a)) # use logistic sigmoid function to get probabilities\n",
    "\n",
    "    thresh = 0.5 #  threshold can be adjusted if needed\n",
    "\n",
    "    accuracy = getAccuracy(output, t, thresh)\n",
    "    print(f'Gaussian Generative Model Accuracy: {accuracy}')\n",
    "\n"
   ]
  },
  {
   "cell_type": "code",
   "execution_count": 34,
   "metadata": {},
   "outputs": [
    {
     "data": {
      "text/plain": [
       "array([466.83957064, 506.7109325 ])"
      ]
     },
     "execution_count": 34,
     "metadata": {},
     "output_type": "execute_result"
    }
   ],
   "source": [
    "total = 0\n",
    "for i in range(len(t)):\n",
    "    total += t[i] * X[i]\n",
    "\n",
    "total"
   ]
  },
  {
   "cell_type": "code",
   "execution_count": 28,
   "metadata": {},
   "outputs": [
    {
     "data": {
      "text/plain": [
       "(1000,)"
      ]
     },
     "execution_count": 28,
     "metadata": {},
     "output_type": "execute_result"
    }
   ],
   "source": [
    "t.shape"
   ]
  },
  {
   "cell_type": "code",
   "execution_count": null,
   "metadata": {},
   "outputs": [],
   "source": []
  }
 ],
 "metadata": {
  "kernelspec": {
   "display_name": "venv",
   "language": "python",
   "name": "python3"
  },
  "language_info": {
   "codemirror_mode": {
    "name": "ipython",
    "version": 3
   },
   "file_extension": ".py",
   "mimetype": "text/x-python",
   "name": "python",
   "nbconvert_exporter": "python",
   "pygments_lexer": "ipython3",
   "version": "3.10.12"
  }
 },
 "nbformat": 4,
 "nbformat_minor": 2
}

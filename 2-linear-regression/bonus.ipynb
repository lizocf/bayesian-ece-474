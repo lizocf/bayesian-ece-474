{
 "cells": [
  {
   "cell_type": "code",
   "execution_count": 42,
   "metadata": {},
   "outputs": [],
   "source": [
    "import numpy as np\n",
    "import matplotlib.pyplot as plt\n",
    "from scipy.stats import multivariate_normal\n",
    "import random"
   ]
  },
  {
   "cell_type": "markdown",
   "metadata": {},
   "source": [
    "## Evidence Appx Equations\n",
    "\n",
    "$$ \\alpha = \\frac{\\gamma}{\\bold{m}_N^T\\bold{m}_N} \\tag{3.92}$$\n",
    "\n",
    "$$ \\frac{1}{\\beta} = \\frac{1}{N-\\gamma}\\sum_{n=1}^N\\{ t_n - \\bold{m}_N^T \\phi(\\bold{x}_n)\\}^2 \\tag{3.95} $$\n",
    "\n",
    "\n",
    "where $\\Phi$ is the design matrix, $\\bold{A} = \\alpha I + \\beta \\Phi^T \\Phi$, and\n",
    "$$ \\bold{m}_N = \\beta \\bold{A}^{-1} \\bold{\\Phi}^T \\bold{\\text{t}}. \\tag{3.84}$$\n",
    "\n",
    "We will use the eigenvector equation\n",
    "\n",
    "$$ (\\beta \\Phi^T \\Phi) \\bold{u}_i = \\lambda_i \\bold{u}_i \\tag{3.87}$$\n",
    "\n",
    "\n",
    " to find a new $\\gamma$ through this equation\n",
    "\n",
    "$$\\gamma = \\sum_i \\frac{\\lambda_i}{\\alpha + \\lambda_i} \\tag{3.91}$$\n",
    "\n",
    "**Procedure:**\n",
    "1. Choose inital $\\alpha$ and $\\beta$.\n",
    "2. Calculate $\\bold{m}_N$ (3.84) and $\\gamma$ (3.91).\n",
    "3. Re-estimate $\\alpha$ and $\\beta$.\n",
    "4. Repeat steps 2 and 3 until convergence."
   ]
  },
  {
   "cell_type": "code",
   "execution_count": 69,
   "metadata": {},
   "outputs": [],
   "source": [
    "def evidence_approx(X, y, alpha, beta, M):\n",
    "    N = len(X)\n",
    "    phi = np.ones((N, M))\n",
    "    phi[:, 1] = X\n",
    "    \n",
    "    # Calculate mN \n",
    "    A = alpha * np.eye(M) + beta * np.dot(phi.T, phi) \n",
    "    mN = beta * np.dot(np.linalg.inv(A), np.dot(phi.T, y)) # Eq. 3,84\n",
    "\n",
    "    # Calculate gamma \n",
    "    eig = beta * np.dot(phi.T, phi) # Eq. 3.87\n",
    "    eig_val, eig_vec = np.linalg.eig(eig)\n",
    "\n",
    "    gamma =  0 # Eq. 3.91\n",
    "    for i in range(eig_val.shape[0]):\n",
    "        gamma += eig_val[i] / (alpha + eig_val[i])\n",
    "    \n",
    "    pred_alpha = gamma / np.dot(mN.T, mN) # Eq. 3.92\n",
    "\n",
    "    sum = 0\n",
    "    for n in range(N):   # sum of 3.95 to find convergence\n",
    "        sum += (y[n] - np.dot(mN.T, phi[n, :])) ** 2\n",
    "    pred_beta = 1 / (N - gamma) * sum   # Eq. 3.95\n",
    "    pred_beta = 1 / pred_beta\n",
    "\n",
    "    return pred_alpha, pred_beta"
   ]
  },
  {
   "cell_type": "code",
   "execution_count": 73,
   "metadata": {},
   "outputs": [],
   "source": [
    "np.random.seed(42)\n",
    "def generate_data(beta, X):\n",
    "    N = len(X)\n",
    "    noise = np.random.normal(0, np.sqrt(1/beta), N)\n",
    "    y = np.sin(2*np.pi*X) + noise\n",
    "    return y"
   ]
  },
  {
   "cell_type": "code",
   "execution_count": 86,
   "metadata": {},
   "outputs": [],
   "source": [
    "size = 100\n",
    "alpha = 2\n",
    "beta = 2\n",
    "\n",
    "X = np.random.uniform(-1, 1, size)\n",
    "y = generate_data(beta, X)"
   ]
  },
  {
   "cell_type": "code",
   "execution_count": 94,
   "metadata": {},
   "outputs": [
    {
     "name": "stdout",
     "output_type": "stream",
     "text": [
      "Iters: 5, Predicted alpha & beta: (7.77, 2.3)\n"
     ]
    }
   ],
   "source": [
    "# initialize alphas and betas\n",
    "pred_alpha = 0.5\n",
    "pred_beta = 1\n",
    "iters = 0\n",
    "\n",
    "while True:\n",
    "    new_alpha, new_beta = evidence_approx(X, y, pred_alpha, pred_beta, 2)\n",
    "    if abs(pred_alpha - new_alpha) < 1e-3 and abs(pred_beta - new_beta) < 1e-3:\n",
    "        break\n",
    "    pred_alpha = new_alpha\n",
    "    pred_beta = new_beta\n",
    "    iters+=1\n",
    "print(f'Iters: {iters}, Predicted alpha & beta: {np.round(new_alpha,2), np.round(new_beta,2)}')"
   ]
  }
 ],
 "metadata": {
  "kernelspec": {
   "display_name": "venv",
   "language": "python",
   "name": "python3"
  },
  "language_info": {
   "codemirror_mode": {
    "name": "ipython",
    "version": 3
   },
   "file_extension": ".py",
   "mimetype": "text/x-python",
   "name": "python",
   "nbconvert_exporter": "python",
   "pygments_lexer": "ipython3",
   "version": "3.12.3"
  }
 },
 "nbformat": 4,
 "nbformat_minor": 2
}
